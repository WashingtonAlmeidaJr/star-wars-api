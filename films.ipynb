{
 "cells": [
  {
   "cell_type": "code",
   "execution_count": 66,
   "metadata": {},
   "outputs": [],
   "source": [
    "#Personagenss do filme Starwars"
   ]
  },
  {
   "cell_type": "code",
   "execution_count": 1,
   "metadata": {},
   "outputs": [],
   "source": [
    "#importando bibliotecas\n",
    "\n",
    "import requests\n",
    "import json\n",
    "import pandas as pd\n",
    "from pandas import json_normalize"
   ]
  },
  {
   "cell_type": "code",
   "execution_count": 13,
   "metadata": {},
   "outputs": [
    {
     "name": "stdout",
     "output_type": "stream",
     "text": [
      "                     title  episode_id  \\\n",
      "0               A New Hope           4   \n",
      "1  The Empire Strikes Back           5   \n",
      "2       Return of the Jedi           6   \n",
      "3       The Phantom Menace           1   \n",
      "4     Attack of the Clones           2   \n",
      "5      Revenge of the Sith           3   \n",
      "\n",
      "                                       opening_crawl          director  \\\n",
      "0  It is a period of civil war.\\r\\nRebel spaceshi...      George Lucas   \n",
      "1  It is a dark time for the\\r\\nRebellion. Althou...    Irvin Kershner   \n",
      "2  Luke Skywalker has returned to\\r\\nhis home pla...  Richard Marquand   \n",
      "3  Turmoil has engulfed the\\r\\nGalactic Republic....      George Lucas   \n",
      "4  There is unrest in the Galactic\\r\\nSenate. Sev...      George Lucas   \n",
      "5  War! The Republic is crumbling\\r\\nunder attack...      George Lucas   \n",
      "\n",
      "                                           producer release_date  \\\n",
      "0                         Gary Kurtz, Rick McCallum   1977-05-25   \n",
      "1                         Gary Kurtz, Rick McCallum   1980-05-17   \n",
      "2  Howard G. Kazanjian, George Lucas, Rick McCallum   1983-05-25   \n",
      "3                                     Rick McCallum   1999-05-19   \n",
      "4                                     Rick McCallum   2002-05-16   \n",
      "5                                     Rick McCallum   2005-05-19   \n",
      "\n",
      "                                          characters  \\\n",
      "0  [https://swapi.dev/api/people/1/, https://swap...   \n",
      "1  [https://swapi.dev/api/people/1/, https://swap...   \n",
      "2  [https://swapi.dev/api/people/1/, https://swap...   \n",
      "3  [https://swapi.dev/api/people/2/, https://swap...   \n",
      "4  [https://swapi.dev/api/people/2/, https://swap...   \n",
      "5  [https://swapi.dev/api/people/1/, https://swap...   \n",
      "\n",
      "                                             planets  \\\n",
      "0  [https://swapi.dev/api/planets/1/, https://swa...   \n",
      "1  [https://swapi.dev/api/planets/4/, https://swa...   \n",
      "2  [https://swapi.dev/api/planets/1/, https://swa...   \n",
      "3  [https://swapi.dev/api/planets/1/, https://swa...   \n",
      "4  [https://swapi.dev/api/planets/1/, https://swa...   \n",
      "5  [https://swapi.dev/api/planets/1/, https://swa...   \n",
      "\n",
      "                                           starships  \\\n",
      "0  [https://swapi.dev/api/starships/2/, https://s...   \n",
      "1  [https://swapi.dev/api/starships/3/, https://s...   \n",
      "2  [https://swapi.dev/api/starships/2/, https://s...   \n",
      "3  [https://swapi.dev/api/starships/31/, https://...   \n",
      "4  [https://swapi.dev/api/starships/21/, https://...   \n",
      "5  [https://swapi.dev/api/starships/2/, https://s...   \n",
      "\n",
      "                                            vehicles  \\\n",
      "0  [https://swapi.dev/api/vehicles/4/, https://sw...   \n",
      "1  [https://swapi.dev/api/vehicles/8/, https://sw...   \n",
      "2  [https://swapi.dev/api/vehicles/8/, https://sw...   \n",
      "3  [https://swapi.dev/api/vehicles/33/, https://s...   \n",
      "4  [https://swapi.dev/api/vehicles/4/, https://sw...   \n",
      "5  [https://swapi.dev/api/vehicles/33/, https://s...   \n",
      "\n",
      "                                             species  \\\n",
      "0  [https://swapi.dev/api/species/1/, https://swa...   \n",
      "1  [https://swapi.dev/api/species/1/, https://swa...   \n",
      "2  [https://swapi.dev/api/species/1/, https://swa...   \n",
      "3  [https://swapi.dev/api/species/1/, https://swa...   \n",
      "4  [https://swapi.dev/api/species/1/, https://swa...   \n",
      "5  [https://swapi.dev/api/species/1/, https://swa...   \n",
      "\n",
      "                       created                       edited  \\\n",
      "0  2014-12-10T14:23:31.880000Z  2014-12-20T19:49:45.256000Z   \n",
      "1  2014-12-12T11:26:24.656000Z  2014-12-15T13:07:53.386000Z   \n",
      "2  2014-12-18T10:39:33.255000Z  2014-12-20T09:48:37.462000Z   \n",
      "3  2014-12-19T16:52:55.740000Z  2014-12-20T10:54:07.216000Z   \n",
      "4  2014-12-20T10:57:57.886000Z  2014-12-20T20:18:48.516000Z   \n",
      "5  2014-12-20T18:49:38.403000Z  2014-12-20T20:47:52.073000Z   \n",
      "\n",
      "                              url  \n",
      "0  https://swapi.dev/api/films/1/  \n",
      "1  https://swapi.dev/api/films/2/  \n",
      "2  https://swapi.dev/api/films/3/  \n",
      "3  https://swapi.dev/api/films/4/  \n",
      "4  https://swapi.dev/api/films/5/  \n",
      "5  https://swapi.dev/api/films/6/  \n"
     ]
    }
   ],
   "source": [
    "link=f'https://swapi.dev/api/films/'\n",
    "request=requests.get(link)\n",
    "request_json=request.json()\n",
    "tabela=pd.DataFrame(request_json['results'])\n",
    "print(tabela)"
   ]
  }
 ],
 "metadata": {
  "kernelspec": {
   "display_name": "Python 3",
   "language": "python",
   "name": "python3"
  },
  "language_info": {
   "codemirror_mode": {
    "name": "ipython",
    "version": 3
   },
   "file_extension": ".py",
   "mimetype": "text/x-python",
   "name": "python",
   "nbconvert_exporter": "python",
   "pygments_lexer": "ipython3",
   "version": "3.11.4"
  },
  "orig_nbformat": 4
 },
 "nbformat": 4,
 "nbformat_minor": 2
}
